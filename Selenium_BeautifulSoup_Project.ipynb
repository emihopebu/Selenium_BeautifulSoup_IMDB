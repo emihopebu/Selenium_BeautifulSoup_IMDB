{
 "cells": [
  {
   "cell_type": "markdown",
   "id": "bb9d1e4a",
   "metadata": {},
   "source": [
    "#### Imports"
   ]
  },
  {
   "cell_type": "code",
   "execution_count": 55,
   "id": "82e20959",
   "metadata": {},
   "outputs": [],
   "source": [
    "from selenium import webdriver\n",
    "import pandas as pd\n",
    "import time\n",
    "from selenium.webdriver.support.ui import Select"
   ]
  },
  {
   "cell_type": "markdown",
   "id": "7211f59e",
   "metadata": {},
   "source": [
    "### Part 1 - Browser Automation with Selenium"
   ]
  },
  {
   "cell_type": "code",
   "execution_count": 59,
   "id": "a95dd029",
   "metadata": {},
   "outputs": [],
   "source": [
    "driver = webdriver.Chrome(executable_path='C:\\webdrivers\\chromedriver.exe')\n",
    "driver.get('https://imdb.com')\n",
    "driver.maximize_window()\n",
    "#dropdown\n",
    "dropdown=driver.find_element_by_class_name('ipc-icon--arrow-drop-down')\n",
    "dropdown.click()\n",
    "time.sleep(1)\n",
    "#advanced search from dropdown menu\n",
    "element=driver.find_element_by_link_text('Advanced Search')\n",
    "element.click()\n",
    "#click on advanced title search\n",
    "adv_title=driver.find_element_by_link_text('Advanced Title Search')\n",
    "adv_title.click()\n",
    "#select feature film\n",
    "feature_film=driver.find_element_by_id('title_type-1')\n",
    "feature_film.click()\n",
    "#select TV Movie\n",
    "tv_movie=driver.find_element_by_id('title_type-2')\n",
    "tv_movie.click()\n",
    "#min date\n",
    "min_date=driver.find_element_by_name('release_date-min')\n",
    "min_date.click()\n",
    "min_date.send_keys('1990')\n",
    "#max date\n",
    "max_date=driver.find_element_by_name('release_date-max')\n",
    "max_date.click()\n",
    "max_date.send_keys('2020')\n",
    "#rating min\n",
    "rating_min=driver.find_element_by_name('user_rating-min')\n",
    "rating_min.click()\n",
    "dropdown_2=Select(rating_min)\n",
    "dropdown_2.select_by_visible_text('1.0')\n",
    "#rating max\n",
    "rating_max=driver.find_element_by_name('user_rating-max')\n",
    "rating_max.click()\n",
    "dropdown_3=Select(rating_max)\n",
    "dropdown_3.select_by_visible_text('10')\n",
    "#oscar nominated\n",
    "oscar_nominated=driver.find_element_by_id('groups-7')\n",
    "oscar_nominated.click()\n",
    "#color\n",
    "color=driver.find_element_by_id('colors-1')\n",
    "color.click()\n",
    "#language\n",
    "language=driver.find_element_by_name('languages')\n",
    "dropdown_4=Select(language)\n",
    "dropdown_4.select_by_visible_text('English')\n",
    "#250 results\n",
    "results_count=driver.find_element_by_id('search-count')\n",
    "results_count.click()\n",
    "dropdown_5=Select(results_count)\n",
    "dropdown_5.select_by_index(2)\n",
    "#sumbit\n",
    "#xpath=//tagname[@Attribute='Value']\n",
    "submit=driver.find_element_by_xpath('(//button[@type=\"submit\"])[2]')\n",
    "submit.click()\n",
    "\n"
   ]
  },
  {
   "cell_type": "code",
   "execution_count": 61,
   "id": "79e99aa3",
   "metadata": {},
   "outputs": [],
   "source": [
    "#current\n",
    "current_url=driver.current_url"
   ]
  },
  {
   "cell_type": "markdown",
   "id": "5b87c5d4",
   "metadata": {},
   "source": [
    "### Part 2 - Data Extraction with Beautiful Soup"
   ]
  },
  {
   "cell_type": "code",
   "execution_count": null,
   "id": "0d4bed49",
   "metadata": {},
   "outputs": [],
   "source": []
  }
 ],
 "metadata": {
  "kernelspec": {
   "display_name": "Python 3",
   "language": "python",
   "name": "python3"
  },
  "language_info": {
   "codemirror_mode": {
    "name": "ipython",
    "version": 3
   },
   "file_extension": ".py",
   "mimetype": "text/x-python",
   "name": "python",
   "nbconvert_exporter": "python",
   "pygments_lexer": "ipython3",
   "version": "3.8.8"
  }
 },
 "nbformat": 4,
 "nbformat_minor": 5
}
